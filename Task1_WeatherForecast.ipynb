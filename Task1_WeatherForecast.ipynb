{
 "cells": [
  {
   "cell_type": "markdown",
   "metadata": {},
   "source": [
    "### Part 1. Collect forecast data"
   ]
  },
  {
   "cell_type": "code",
   "execution_count": 99,
   "metadata": {
    "collapsed": true
   },
   "outputs": [],
   "source": [
    "import json\n",
    "import numpy as np\n",
    "import pandas as pd\n",
    "import requests"
   ]
  },
  {
   "cell_type": "code",
   "execution_count": 105,
   "metadata": {
    "collapsed": true
   },
   "outputs": [],
   "source": [
    "forecast_url = 'http://api.wunderground.com/api/f80f6ff287475a26/forecast10day/q/RU/Moscow.json'"
   ]
  },
  {
   "cell_type": "code",
   "execution_count": 106,
   "metadata": {
    "collapsed": true
   },
   "outputs": [],
   "source": [
    "forecast_data = requests.get(forecast_url).json()\n",
    "daily10_forecast_data = forecast_data['forecast']['simpleforecast']['forecastday']"
   ]
  },
  {
   "cell_type": "code",
   "execution_count": 133,
   "metadata": {},
   "outputs": [],
   "source": [
    "forecast_row_index = ['low_temperature', 'high_temperature', 'wind_speed', 'precipation']\n",
    "forecast_table = pd.DataFrame(np.zeros(shape=(4, 10), dtype=np.int32), index=forecast_row_index)\n",
    "\n",
    "dates = []\n",
    "\n",
    "for i in range(10):\n",
    "    daily_forecast = daily10_forecast_data[i]\n",
    "\n",
    "    forecast_table.set_value(forecast_row_index[0], i, daily_forecast['low']['celsius'])\n",
    "    forecast_table.set_value(forecast_row_index[1], i, daily_forecast['high']['celsius'])\n",
    "    forecast_table.set_value(forecast_row_index[2], i, daily_forecast['avewind']['kph'])\n",
    "    \n",
    "    qpf_daily = daily_forecast['qpf_day']['mm']\n",
    "    if qpf_daily == None:\n",
    "        qpf_daily = 0\n",
    "    forecast_table.set_value(forecast_row_index[3], i, qpf_daily )\n",
    "\n",
    "    dates.append(str(daily_forecast['date']['day']) + '.' + \n",
    "                 str(daily_forecast['date']['month']) + '.' + \n",
    "                 str(daily_forecast['date']['year']))\n",
    "    \n",
    "forecast_table.rename(columns=lambda x: dates[x], inplace=True)"
   ]
  },
  {
   "cell_type": "code",
   "execution_count": 134,
   "metadata": {},
   "outputs": [
    {
     "data": {
      "text/html": [
       "<div>\n",
       "<style>\n",
       "    .dataframe thead tr:only-child th {\n",
       "        text-align: right;\n",
       "    }\n",
       "\n",
       "    .dataframe thead th {\n",
       "        text-align: left;\n",
       "    }\n",
       "\n",
       "    .dataframe tbody tr th {\n",
       "        vertical-align: top;\n",
       "    }\n",
       "</style>\n",
       "<table border=\"1\" class=\"dataframe\">\n",
       "  <thead>\n",
       "    <tr style=\"text-align: right;\">\n",
       "      <th></th>\n",
       "      <th>8.3.2018</th>\n",
       "      <th>9.3.2018</th>\n",
       "      <th>10.3.2018</th>\n",
       "      <th>11.3.2018</th>\n",
       "      <th>12.3.2018</th>\n",
       "      <th>13.3.2018</th>\n",
       "      <th>14.3.2018</th>\n",
       "      <th>15.3.2018</th>\n",
       "      <th>16.3.2018</th>\n",
       "      <th>17.3.2018</th>\n",
       "    </tr>\n",
       "  </thead>\n",
       "  <tbody>\n",
       "    <tr>\n",
       "      <th>low_temperature</th>\n",
       "      <td>-15</td>\n",
       "      <td>-12</td>\n",
       "      <td>-11</td>\n",
       "      <td>-10</td>\n",
       "      <td>-10</td>\n",
       "      <td>-9</td>\n",
       "      <td>-10</td>\n",
       "      <td>-8</td>\n",
       "      <td>-8</td>\n",
       "      <td>-9</td>\n",
       "    </tr>\n",
       "    <tr>\n",
       "      <th>high_temperature</th>\n",
       "      <td>-1</td>\n",
       "      <td>-4</td>\n",
       "      <td>-5</td>\n",
       "      <td>-4</td>\n",
       "      <td>-3</td>\n",
       "      <td>-2</td>\n",
       "      <td>-2</td>\n",
       "      <td>-1</td>\n",
       "      <td>-2</td>\n",
       "      <td>-2</td>\n",
       "    </tr>\n",
       "    <tr>\n",
       "      <th>wind_speed</th>\n",
       "      <td>1</td>\n",
       "      <td>14</td>\n",
       "      <td>18</td>\n",
       "      <td>16</td>\n",
       "      <td>14</td>\n",
       "      <td>23</td>\n",
       "      <td>19</td>\n",
       "      <td>16</td>\n",
       "      <td>10</td>\n",
       "      <td>13</td>\n",
       "    </tr>\n",
       "    <tr>\n",
       "      <th>precipation</th>\n",
       "      <td>0</td>\n",
       "      <td>0</td>\n",
       "      <td>1</td>\n",
       "      <td>0</td>\n",
       "      <td>0</td>\n",
       "      <td>0</td>\n",
       "      <td>0</td>\n",
       "      <td>1</td>\n",
       "      <td>0</td>\n",
       "      <td>0</td>\n",
       "    </tr>\n",
       "  </tbody>\n",
       "</table>\n",
       "</div>"
      ],
      "text/plain": [
       "                  8.3.2018  9.3.2018  10.3.2018  11.3.2018  12.3.2018  \\\n",
       "low_temperature        -15       -12        -11        -10        -10   \n",
       "high_temperature        -1        -4         -5         -4         -3   \n",
       "wind_speed               1        14         18         16         14   \n",
       "precipation              0         0          1          0          0   \n",
       "\n",
       "                  13.3.2018  14.3.2018  15.3.2018  16.3.2018  17.3.2018  \n",
       "low_temperature          -9        -10         -8         -8         -9  \n",
       "high_temperature         -2         -2         -1         -2         -2  \n",
       "wind_speed               23         19         16         10         13  \n",
       "precipation               0          0          1          0          0  "
      ]
     },
     "execution_count": 134,
     "metadata": {},
     "output_type": "execute_result"
    }
   ],
   "source": [
    "forecast_table"
   ]
  }
 ],
 "metadata": {
  "kernelspec": {
   "display_name": "Python 3",
   "language": "python",
   "name": "python3"
  },
  "language_info": {
   "codemirror_mode": {
    "name": "ipython",
    "version": 3
   },
   "file_extension": ".py",
   "mimetype": "text/x-python",
   "name": "python",
   "nbconvert_exporter": "python",
   "pygments_lexer": "ipython3",
   "version": "3.5.4"
  }
 },
 "nbformat": 4,
 "nbformat_minor": 2
}
