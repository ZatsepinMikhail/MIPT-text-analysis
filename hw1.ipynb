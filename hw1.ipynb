{
 "cells": [
  {
   "cell_type": "markdown",
   "metadata": {},
   "source": [
    "# Автоматическая обработка текстов \n",
    "## Домашнее задание 1 [10 баллов] до 23:59 15.03.2018\n",
    "\n",
    "В этом домашнем задании вам потребуется написать генератор описания прогноза погоды на следующую неделю в каком-нибудь городе. Домашнее задание состоит из трех частей:\n",
    "1. Скачивание данных о состоянии погоды в городе \n",
    "2. Генерация описания прогноза\n",
    "3. Творческая часть\n",
    "\n",
    "Все три части можно считать независимыми – вы можете сделать одну или две из них, однако мы настоятельно советуем выполнить все три. Все инструкции по выполнению домашнего задания – ниже. \n",
    "\n"
   ]
  },
  {
   "cell_type": "markdown",
   "metadata": {},
   "source": [
    "### 1. Сбор данных [3 балла]\n",
    "\n",
    "\n",
    "Пример: прогноз на 10 ближайших дней в Москве – https://www.gismeteo.ru/weather-moscow-4368/10-days/\n",
    "\n",
    "Используя известные вам библиотеки для работы с протоколом http и html кодом, извлеките прогноз на ближайшие 10 дней, начиная со дня, когда вы начали делать домашнее задание, с любого сервиса с прогнозом погоды или используя его API.\n",
    "Примеры сервисов:\n",
    "* gismeteo.ru, https://www.gismeteo.ru/api/ – Gismeteo, API Gismeteo \n",
    "* https://tech.yandex.ru/weather/ – API Yandex.Погоды\n",
    "* https://sinoptik.com.ru – Sinoptik\n",
    "* любой другой \n",
    "\n",
    "Резльтатом сбора данных должна быть таблица со следующими строками:\n",
    "* минимальная температура\n",
    "* максимальная температура\n",
    "* скорость ветра\n",
    "* уровень осадков \n",
    "\n",
    "В столбцах таблицы должны быть даты и дни недели.  Пример итоговой таблицы вы найдете в следующей части задания. "
   ]
  },
  {
   "cell_type": "code",
   "execution_count": 80,
   "metadata": {
    "collapsed": true
   },
   "outputs": [],
   "source": [
    "import json\n",
    "import numpy as np\n",
    "import pandas as pd\n",
    "import requests\n",
    "import datetime\n",
    "import pymorphy2\n",
    "import calendar"
   ]
  },
  {
   "cell_type": "code",
   "execution_count": 2,
   "metadata": {
    "collapsed": true
   },
   "outputs": [],
   "source": [
    "CITY, CITY_ENG = 'Москвe', 'Moscow'\n",
    "\n",
    "def get_city():\n",
    "    return CITY\n",
    "\n",
    "\n",
    "MIN_TEMPERATURE = 'минимальная температура'\n",
    "MAX_TEMPERATURE = 'максимальная температура'\n",
    "WIND_SPEED = 'скорость ветра'\n",
    "PRECIPITATION_LEVEL = 'уровень осадков'"
   ]
  },
  {
   "cell_type": "code",
   "execution_count": 3,
   "metadata": {
    "collapsed": true
   },
   "outputs": [],
   "source": [
    "forecast_url = 'http://api.wunderground.com/api/f80f6ff287475a26/forecast10day/q/RU/' + CITY_ENG + '.json'"
   ]
  },
  {
   "cell_type": "code",
   "execution_count": 4,
   "metadata": {
    "collapsed": true
   },
   "outputs": [],
   "source": [
    "forecast_data = requests.get(forecast_url).json()\n",
    "daily10_forecast_data = forecast_data['forecast']['simpleforecast']['forecastday']"
   ]
  },
  {
   "cell_type": "code",
   "execution_count": 33,
   "metadata": {},
   "outputs": [],
   "source": [
    "forecast_row_index = [MIN_TEMPERATURE, MAX_TEMPERATURE, WIND_SPEED, PRECIPITATION_LEVEL]\n",
    "forecast_table = pd.DataFrame(np.zeros(shape=(4, 10), dtype=np.int32), index=forecast_row_index)\n",
    "\n",
    "dates = []\n",
    "\n",
    "for i in range(10):\n",
    "    daily_forecast = daily10_forecast_data[i]\n",
    "\n",
    "    forecast_table.set_value(forecast_row_index[0], i, daily_forecast['low']['celsius'])\n",
    "    forecast_table.set_value(forecast_row_index[1], i, daily_forecast['high']['celsius'])\n",
    "    forecast_table.set_value(forecast_row_index[2], i, daily_forecast['avewind']['kph'])\n",
    "    \n",
    "    qpf_daily = daily_forecast['qpf_day']['mm']\n",
    "    if qpf_daily == None:\n",
    "        qpf_daily = 0\n",
    "    forecast_table.set_value(forecast_row_index[3], i, qpf_daily )\n",
    "    \n",
    "    day = datetime.date(daily_forecast['date']['year'], daily_forecast['date']['month'], daily_forecast['date']['day'])\n",
    "    dates.append(day)\n",
    "    \n",
    "forecast_table.rename(columns=lambda x: dates[x], inplace=True)"
   ]
  },
  {
   "cell_type": "code",
   "execution_count": 34,
   "metadata": {},
   "outputs": [
    {
     "data": {
      "text/html": [
       "<div>\n",
       "<style>\n",
       "    .dataframe thead tr:only-child th {\n",
       "        text-align: right;\n",
       "    }\n",
       "\n",
       "    .dataframe thead th {\n",
       "        text-align: left;\n",
       "    }\n",
       "\n",
       "    .dataframe tbody tr th {\n",
       "        vertical-align: top;\n",
       "    }\n",
       "</style>\n",
       "<table border=\"1\" class=\"dataframe\">\n",
       "  <thead>\n",
       "    <tr style=\"text-align: right;\">\n",
       "      <th></th>\n",
       "      <th>2018-03-09</th>\n",
       "      <th>2018-03-10</th>\n",
       "      <th>2018-03-11</th>\n",
       "      <th>2018-03-12</th>\n",
       "      <th>2018-03-13</th>\n",
       "      <th>2018-03-14</th>\n",
       "      <th>2018-03-15</th>\n",
       "      <th>2018-03-16</th>\n",
       "      <th>2018-03-17</th>\n",
       "      <th>2018-03-18</th>\n",
       "    </tr>\n",
       "  </thead>\n",
       "  <tbody>\n",
       "    <tr>\n",
       "      <th>минимальная температура</th>\n",
       "      <td>-12</td>\n",
       "      <td>-11</td>\n",
       "      <td>-11</td>\n",
       "      <td>-10</td>\n",
       "      <td>-11</td>\n",
       "      <td>-10</td>\n",
       "      <td>-8</td>\n",
       "      <td>-8</td>\n",
       "      <td>-9</td>\n",
       "      <td>-9</td>\n",
       "    </tr>\n",
       "    <tr>\n",
       "      <th>максимальная температура</th>\n",
       "      <td>-4</td>\n",
       "      <td>-5</td>\n",
       "      <td>-4</td>\n",
       "      <td>-3</td>\n",
       "      <td>-3</td>\n",
       "      <td>-3</td>\n",
       "      <td>-2</td>\n",
       "      <td>-1</td>\n",
       "      <td>-2</td>\n",
       "      <td>-2</td>\n",
       "    </tr>\n",
       "    <tr>\n",
       "      <th>скорость ветра</th>\n",
       "      <td>14</td>\n",
       "      <td>19</td>\n",
       "      <td>18</td>\n",
       "      <td>14</td>\n",
       "      <td>21</td>\n",
       "      <td>18</td>\n",
       "      <td>16</td>\n",
       "      <td>10</td>\n",
       "      <td>13</td>\n",
       "      <td>14</td>\n",
       "    </tr>\n",
       "    <tr>\n",
       "      <th>уровень осадков</th>\n",
       "      <td>0</td>\n",
       "      <td>1</td>\n",
       "      <td>1</td>\n",
       "      <td>0</td>\n",
       "      <td>0</td>\n",
       "      <td>0</td>\n",
       "      <td>0</td>\n",
       "      <td>0</td>\n",
       "      <td>0</td>\n",
       "      <td>0</td>\n",
       "    </tr>\n",
       "  </tbody>\n",
       "</table>\n",
       "</div>"
      ],
      "text/plain": [
       "                          2018-03-09  2018-03-10  2018-03-11  2018-03-12  \\\n",
       "минимальная температура          -12         -11         -11         -10   \n",
       "максимальная температура          -4          -5          -4          -3   \n",
       "скорость ветра                    14          19          18          14   \n",
       "уровень осадков                    0           1           1           0   \n",
       "\n",
       "                          2018-03-13  2018-03-14  2018-03-15  2018-03-16  \\\n",
       "минимальная температура          -11         -10          -8          -8   \n",
       "максимальная температура          -3          -3          -2          -1   \n",
       "скорость ветра                    21          18          16          10   \n",
       "уровень осадков                    0           0           0           0   \n",
       "\n",
       "                          2018-03-17  2018-03-18  \n",
       "минимальная температура           -9          -9  \n",
       "максимальная температура          -2          -2  \n",
       "скорость ветра                    13          14  \n",
       "уровень осадков                    0           0  "
      ]
     },
     "execution_count": 34,
     "metadata": {},
     "output_type": "execute_result"
    }
   ],
   "source": [
    "forecast_table"
   ]
  },
  {
   "cell_type": "markdown",
   "metadata": {},
   "source": [
    "### 2. Генератор описания прогноза погоды [4 балла]\n",
    "\n",
    "Если у вас не получилось извлечь прогноз погоды в предыдущей части задания, воспользуйтесь таблицей ниже.\n",
    "В ней приведен прогноз четырех показателей на первые 10 дней февраля в Москве – минимальная и максимальная температура, скорость ветра и уровень осадков. "
   ]
  },
  {
   "cell_type": "markdown",
   "metadata": {},
   "source": [
    "|                | 02.02 (пт) | 03.02 (сб) | 04.02 (вс)| 05.02 (пн) | 06.02 (вт) | 07.02 (пн) | 08.02 (ср) | 09.02 (ср) | 10.02 (сб) | 11.02 (вс)\n",
    "|----------------|-------|-------|-------|-------|-------|-------|-------|\n",
    "| минимальная температура    | -9    | -1    | -8    | -13    | -12    | -15    | -21    | -14 |-8 |-8\n",
    "| максимальная температура    | -1    | +1    | -2    | -9   | -11    | -12    | -16    |-5    |-6    |-5|\n",
    "| скорость ветра | 10    | 13    | 15    | 15   |11    | 6    | 7 | 9 | 8 |12\n",
    "| уровень осадков         | 1.35  | 8.6  | 15.5  | 6.6   | 2.7   | 2.1   | 0   | 3.2   |0.8  | 0.4"
   ]
  },
  {
   "cell_type": "markdown",
   "metadata": {},
   "source": [
    "Прогноз погоды должен состоять из следующих (или подобным им) предложений, генерируемых по шаблонам (ниже три шаблона):\n",
    "* В день1 похолодает / потеплеет на X градус (-а, -ов) по сравнению с день2\n",
    "    * *В четверг в НазваниеГорода потеплеет на 7 градусов по сравнению со средой*\n",
    "* Скорость ветра изменится на X единиц в день1 по сравнению с день2.\n",
    "    * *Скорость ветра изменится на 3 км/час в понедельник по сравнению с пятницей*\n",
    "* Уровень осадков повысится / понизится на X единиц за Y дней. \n",
    "    * *Уровень осадков понится на 3.85 мм за 7 дней*\n",
    "    * *Выпадет 10 см снега за ближайшие 7 дней * \n",
    "\n",
    "\n",
    "Вместо НазваниеГорода и дней недели подставьте название выбранного вами города и дни недели, используя фунцкии для согласования существительных с предлогами. Используйте функции для согласования числительного с существительным для согласования длительности промежутков времени и слова \"день\" и чисел  с последующими единицами измерения."
   ]
  },
  {
   "cell_type": "code",
   "execution_count": 35,
   "metadata": {},
   "outputs": [
    {
     "data": {
      "text/plain": [
       "Index(['минимальная температура', 'максимальная температура', 'скорость ветра',\n",
       "       'уровень осадков'],\n",
       "      dtype='object')"
      ]
     },
     "execution_count": 35,
     "metadata": {},
     "output_type": "execute_result"
    }
   ],
   "source": [
    "forecast_table.index"
   ]
  },
  {
   "cell_type": "code",
   "execution_count": 48,
   "metadata": {},
   "outputs": [
    {
     "name": "stdout",
     "output_type": "stream",
     "text": [
      "минимальная температура , максимальная температура , скорость ветра , уровень осадков\n"
     ]
    }
   ],
   "source": [
    "print(MIN_TEMPERATURE,',', MAX_TEMPERATURE,',', WIND_SPEED,',', PRECIPITATION_LEVEL)"
   ]
  },
  {
   "cell_type": "code",
   "execution_count": 44,
   "metadata": {},
   "outputs": [],
   "source": [
    "DAYS = forecast_table.columns"
   ]
  },
  {
   "cell_type": "code",
   "execution_count": 46,
   "metadata": {},
   "outputs": [
    {
     "data": {
      "text/plain": [
       "Index([2018-03-09, 2018-03-10, 2018-03-11, 2018-03-12, 2018-03-13, 2018-03-14,\n",
       "       2018-03-15, 2018-03-16, 2018-03-17, 2018-03-18],\n",
       "      dtype='object')"
      ]
     },
     "execution_count": 46,
     "metadata": {},
     "output_type": "execute_result"
    }
   ],
   "source": [
    "DAYS"
   ]
  },
  {
   "cell_type": "code",
   "execution_count": 59,
   "metadata": {},
   "outputs": [
    {
     "name": "stdout",
     "output_type": "stream",
     "text": [
      "14\n"
     ]
    }
   ],
   "source": [
    "# index - одно из четырех значений, например MIN_TEMPERATURE\n",
    "# day - число от 0 до 9\n",
    "def get_value_for_day(index, day):\n",
    "    return forecast_table.get_value(index, DAYS[day])\n",
    "    \n",
    "print(get_value_for_day(WIND_SPEED, 9))"
   ]
  },
  {
   "cell_type": "code",
   "execution_count": 88,
   "metadata": {},
   "outputs": [
    {
     "name": "stdout",
     "output_type": "stream",
     "text": [
      "воскресенье\n"
     ]
    }
   ],
   "source": [
    "def get_weekday_in_russian(day):\n",
    "    if day == 0:\n",
    "        return 'понедельник'\n",
    "    elif day == 1:\n",
    "        return 'вторник'\n",
    "    elif day == 2:\n",
    "        return 'среда'\n",
    "    elif day == 3:\n",
    "        return 'четверг'\n",
    "    elif day == 4:\n",
    "        return 'пятница'\n",
    "    elif day == 5:\n",
    "        return 'суббота'\n",
    "    elif day == 6:\n",
    "        return 'воскресенье'\n",
    "    assert(false)\n",
    "    \n",
    "print(get_weekday_in_russian(6))"
   ]
  },
  {
   "cell_type": "code",
   "execution_count": 113,
   "metadata": {},
   "outputs": [
    {
     "name": "stdout",
     "output_type": "stream",
     "text": [
      "Счастье\n"
     ]
    }
   ],
   "source": [
    "def make_first_letter_uppercase(word):\n",
    "    return word[0].upper() + word[1:]\n",
    "\n",
    "print(make_first_letter_uppercase('счастье'))"
   ]
  },
  {
   "cell_type": "code",
   "execution_count": 131,
   "metadata": {
    "collapsed": true
   },
   "outputs": [],
   "source": [
    "morph = pymorphy2.MorphAnalyzer()"
   ]
  },
  {
   "cell_type": "code",
   "execution_count": 160,
   "metadata": {},
   "outputs": [
    {
     "name": "stdout",
     "output_type": "stream",
     "text": [
      "В понедельник в Москве потеплеет на 1.0 градус по сравнению c пятницей\n"
     ]
    }
   ],
   "source": [
    "def get_forecast_type_1(day1, day2):\n",
    "    day1_word = morph.parse(get_weekday_in_russian(DAYS[day1].weekday()))[0].inflect({'ablt'}).word\n",
    "    day2_word = morph.parse(get_weekday_in_russian(DAYS[day2].weekday()))[0].inflect({'accs'}).word\n",
    "\n",
    "    city_word = make_first_letter_uppercase(morph.parse(get_city())[0].inflect({'datv'}).word)\n",
    "    \n",
    "    min_temp1 = get_value_for_day(MIN_TEMPERATURE, day1)\n",
    "    max_temp1 = get_value_for_day(MAX_TEMPERATURE, day1)\n",
    "    avg_temp1 = (max_temp1 + min_temp1) // 2.\n",
    "    \n",
    "    min_temp2 = get_value_for_day(MIN_TEMPERATURE, day2)\n",
    "    max_temp2 = get_value_for_day(MAX_TEMPERATURE, day2)\n",
    "    avg_temp2 = (max_temp2 + min_temp2) // 2.\n",
    "    \n",
    "    delta_temp = avg_temp2 - avg_temp1\n",
    "        \n",
    "    action = 'потеплеет'\n",
    "    if delta_temp < 0:\n",
    "        action = 'похолодает'\n",
    "        delta_temp *= -1\n",
    "        \n",
    "    if delta_temp == 0:\n",
    "        action = 'температура не изменится'\n",
    "        TEMPLATE = \"В {} в {} {} по сравнению c {}\"\n",
    "        return TEMPLATE.format(day2_word, city_word, action, day1_word)\n",
    "    \n",
    "    units = 'градус'\n",
    "    correct_units = morph.parse(units)[0].make_agree_with_number(delta_temp).word\n",
    "        \n",
    "    TEMPLATE = \"В {} в {} {} на {} {} по сравнению c {}\"\n",
    "    return TEMPLATE.format(day2_word, city_word, action, delta_temp, correct_units, day1_word)\n",
    "    \n",
    "print(get_forecast_type_1(0, 3))"
   ]
  },
  {
   "cell_type": "code",
   "execution_count": 161,
   "metadata": {},
   "outputs": [
    {
     "name": "stdout",
     "output_type": "stream",
     "text": [
      "В субботу в Москве температура не изменится по сравнению c пятницей\n",
      "В воскресенье в Москве температура не изменится по сравнению c пятницей\n",
      "В понедельник в Москве потеплеет на 1.0 градус по сравнению c пятницей\n",
      "В вторник в Москве потеплеет на 1.0 градус по сравнению c пятницей\n",
      "В среду в Москве потеплеет на 1.0 градус по сравнению c пятницей\n",
      "В четверг в Москве потеплеет на 3.0 градуса по сравнению c пятницей\n",
      "В воскресенье в Москве температура не изменится по сравнению c субботой\n",
      "В понедельник в Москве потеплеет на 1.0 градус по сравнению c субботой\n",
      "В вторник в Москве потеплеет на 1.0 градус по сравнению c субботой\n",
      "В среду в Москве потеплеет на 1.0 градус по сравнению c субботой\n",
      "В четверг в Москве потеплеет на 3.0 градуса по сравнению c субботой\n",
      "В понедельник в Москве потеплеет на 1.0 градус по сравнению c воскресеньем\n",
      "В вторник в Москве потеплеет на 1.0 градус по сравнению c воскресеньем\n",
      "В среду в Москве потеплеет на 1.0 градус по сравнению c воскресеньем\n",
      "В четверг в Москве потеплеет на 3.0 градуса по сравнению c воскресеньем\n",
      "В вторник в Москве температура не изменится по сравнению c понедельником\n",
      "В среду в Москве температура не изменится по сравнению c понедельником\n",
      "В четверг в Москве потеплеет на 2.0 градуса по сравнению c понедельником\n",
      "В среду в Москве температура не изменится по сравнению c вторником\n",
      "В четверг в Москве потеплеет на 2.0 градуса по сравнению c вторником\n",
      "В четверг в Москве потеплеет на 2.0 градуса по сравнению c средой\n"
     ]
    }
   ],
   "source": [
    "# код нужно тестировать\n",
    "for i in range(0, 7):\n",
    "    for j in range(i+1,7):\n",
    "        print(get_forecast_type_1(i, j))"
   ]
  },
  {
   "cell_type": "code",
   "execution_count": 162,
   "metadata": {},
   "outputs": [
    {
     "name": "stdout",
     "output_type": "stream",
     "text": [
      "В среду в Москве похолодает на 2.0 градуса по сравнению c четвергом\n"
     ]
    }
   ],
   "source": [
    "print(get_forecast_type_1(6, 5))"
   ]
  },
  {
   "cell_type": "code",
   "execution_count": 151,
   "metadata": {
    "collapsed": true
   },
   "outputs": [],
   "source": [
    "# \"Скорость ветра изменится на X единиц в день1 по сравнению с день2.\" плохой пример, нет города и \"изменится\" - плохое слово"
   ]
  },
  {
   "cell_type": "code",
   "execution_count": 185,
   "metadata": {},
   "outputs": [
    {
     "name": "stdout",
     "output_type": "stream",
     "text": [
      "Скорость ветра в воскресенье в Москве уменьшится на 1 единицу по сравнению c субботой\n"
     ]
    }
   ],
   "source": [
    "def get_forecast_type_2(day1, day2):\n",
    "    wind_speed_word = make_first_letter_uppercase(WIND_SPEED)\n",
    "    \n",
    "    day1_word = morph.parse(get_weekday_in_russian(DAYS[day1].weekday()))[0].inflect({'ablt'}).word\n",
    "    day2_word = morph.parse(get_weekday_in_russian(DAYS[day2].weekday()))[0].inflect({'accs'}).word\n",
    "\n",
    "    city_word = make_first_letter_uppercase(morph.parse(get_city())[0].inflect({'datv'}).word)\n",
    "    \n",
    "    wind_speed1 = get_value_for_day(WIND_SPEED, day1)\n",
    "    wind_speed2 = get_value_for_day(WIND_SPEED, day2)\n",
    "    \n",
    "    delta_wind_speed = wind_speed2 - wind_speed1\n",
    "    \n",
    "    action = 'увеличится'\n",
    "    if delta_wind_speed < 0:\n",
    "        delta_wind_speed *= -1\n",
    "        action = 'уменьшится'\n",
    "        \n",
    "    if delta_wind_speed == 0:\n",
    "        action = 'не изменится'\n",
    "        TEMPLATE = \"{} в {} в {} {} по сравнению c {}\"\n",
    "        return TEMPLATE.format(wind_speed_word, day2_word, city_word, action, day1_word)\n",
    "    \n",
    "    units = 'единица'\n",
    "    correct_units = morph.parse(units)[0].make_agree_with_number(delta_wind_speed)\n",
    "    \n",
    "    # костыль для ошибки при значении delta_wind_speed = 1\n",
    "    if delta_wind_speed == 1:\n",
    "        correct_units = correct_units.inflect({'sing', 'accs'})\n",
    "    \n",
    "    correct_units_word = correct_units.word\n",
    "    \n",
    "    TEMPLATE = \"{} в {} в {} {} на {} {} по сравнению c {}\"\n",
    "    return TEMPLATE.format(wind_speed_word, day2_word, city_word, action, delta_wind_speed, correct_units_word, day1_word)\n",
    "    \n",
    "print(get_forecast_type_2(1, 2))"
   ]
  },
  {
   "cell_type": "code",
   "execution_count": 187,
   "metadata": {},
   "outputs": [
    {
     "name": "stdout",
     "output_type": "stream",
     "text": [
      "Скорость ветра в субботу в Москве увеличится на 5 единиц по сравнению c пятницей\n",
      "Скорость ветра в воскресенье в Москве увеличится на 4 единицы по сравнению c пятницей\n",
      "Скорость ветра в понедельник в Москве не изменится по сравнению c пятницей\n",
      "Скорость ветра в вторник в Москве увеличится на 7 единиц по сравнению c пятницей\n",
      "Скорость ветра в среду в Москве увеличится на 4 единицы по сравнению c пятницей\n",
      "Скорость ветра в четверг в Москве увеличится на 2 единицы по сравнению c пятницей\n",
      "Скорость ветра в воскресенье в Москве уменьшится на 1 единицу по сравнению c субботой\n",
      "Скорость ветра в понедельник в Москве уменьшится на 5 единиц по сравнению c субботой\n",
      "Скорость ветра в вторник в Москве увеличится на 2 единицы по сравнению c субботой\n",
      "Скорость ветра в среду в Москве уменьшится на 1 единицу по сравнению c субботой\n",
      "Скорость ветра в четверг в Москве уменьшится на 3 единицы по сравнению c субботой\n",
      "Скорость ветра в понедельник в Москве уменьшится на 4 единицы по сравнению c воскресеньем\n",
      "Скорость ветра в вторник в Москве увеличится на 3 единицы по сравнению c воскресеньем\n",
      "Скорость ветра в среду в Москве не изменится по сравнению c воскресеньем\n",
      "Скорость ветра в четверг в Москве уменьшится на 2 единицы по сравнению c воскресеньем\n",
      "Скорость ветра в вторник в Москве увеличится на 7 единиц по сравнению c понедельником\n",
      "Скорость ветра в среду в Москве увеличится на 4 единицы по сравнению c понедельником\n",
      "Скорость ветра в четверг в Москве увеличится на 2 единицы по сравнению c понедельником\n",
      "Скорость ветра в среду в Москве уменьшится на 3 единицы по сравнению c вторником\n",
      "Скорость ветра в четверг в Москве уменьшится на 5 единиц по сравнению c вторником\n",
      "Скорость ветра в четверг в Москве уменьшится на 2 единицы по сравнению c средой\n"
     ]
    }
   ],
   "source": [
    "# код нужно тестировать\n",
    "for i in range(0, 7):\n",
    "    for j in range(i+1,7):\n",
    "        print(get_forecast_type_2(i, j))"
   ]
  },
  {
   "cell_type": "code",
   "execution_count": null,
   "metadata": {
    "collapsed": true
   },
   "outputs": [],
   "source": [
    "\"Уровень осадков повысится / понизится на X единиц за Y дней.\""
   ]
  },
  {
   "cell_type": "code",
   "execution_count": 201,
   "metadata": {},
   "outputs": [
    {
     "name": "stdout",
     "output_type": "stream",
     "text": [
      "Уровень осадков в Москве не изменится за 2 дня\n"
     ]
    }
   ],
   "source": [
    "def get_forecast_type_3(day1, day2):\n",
    "    precipitation_level_word = make_first_letter_uppercase(PRECIPITATION_LEVEL)\n",
    "    \n",
    "    day1_word = morph.parse(get_weekday_in_russian(DAYS[day1].weekday()))[0].inflect({'ablt'}).word\n",
    "    day2_word = morph.parse(get_weekday_in_russian(DAYS[day2].weekday()))[0].inflect({'accs'}).word\n",
    "    \n",
    "    delta_days = day2 - day1 + 1\n",
    "    time_unit = 'день'\n",
    "    time_unit_word = morph.parse(time_unit)[0].make_agree_with_number(delta_days).word\n",
    "    \n",
    "    city_word = make_first_letter_uppercase(morph.parse(get_city())[0].inflect({'datv'}).word)\n",
    "    \n",
    "    precipitation_level1 = get_value_for_day(PRECIPITATION_LEVEL, day1)\n",
    "    precipitation_level2 = get_value_for_day(PRECIPITATION_LEVEL, day2)\n",
    "    \n",
    "    delta_precipitation_level = precipitation_level2 - precipitation_level1\n",
    "    \n",
    "    action = 'повысится'\n",
    "    if delta_precipitation_level < 0:\n",
    "        delta_precipitation_level *= -1\n",
    "        action = 'понизится'\n",
    "        \n",
    "    if delta_precipitation_level == 0:\n",
    "        action = 'не изменится'\n",
    "        TEMPLATE = \"{} в {} {} за {} {}\"\n",
    "        return TEMPLATE.format(precipitation_level_word, city_word, action, delta_days, time_unit_word )\n",
    "    \n",
    "    units = 'единица'\n",
    "    correct_units = morph.parse(units)[0].make_agree_with_number(delta_precipitation_level)\n",
    "    \n",
    "    # костыль для ошибки при значении delta_wind_speed = 1\n",
    "    if delta_precipitation_level == 1:\n",
    "        correct_units = correct_units.inflect({'sing', 'accs'})\n",
    "    \n",
    "    correct_units_word = correct_units.word\n",
    "    \n",
    "    TEMPLATE = \"{} в {} {} на {} {} за {} {}\"\n",
    "    return TEMPLATE.format(precipitation_level_word, \n",
    "                           city_word, \n",
    "                           action,\n",
    "                           delta_precipitation_level,\n",
    "                           correct_units_word,\n",
    "                           delta_days,\n",
    "                           time_unit_word)\n",
    "    \n",
    "print(get_forecast_type_3(1, 2))"
   ]
  },
  {
   "cell_type": "code",
   "execution_count": 202,
   "metadata": {},
   "outputs": [
    {
     "name": "stdout",
     "output_type": "stream",
     "text": [
      "Уровень осадков в Москве повысится на 1 единицу за 2 дня\n",
      "Уровень осадков в Москве повысится на 1 единицу за 3 дня\n",
      "Уровень осадков в Москве не изменится за 4 дня\n",
      "Уровень осадков в Москве не изменится за 5 дней\n",
      "Уровень осадков в Москве не изменится за 6 дней\n",
      "Уровень осадков в Москве не изменится за 7 дней\n",
      "Уровень осадков в Москве не изменится за 2 дня\n",
      "Уровень осадков в Москве понизится на 1 единицу за 3 дня\n",
      "Уровень осадков в Москве понизится на 1 единицу за 4 дня\n",
      "Уровень осадков в Москве понизится на 1 единицу за 5 дней\n",
      "Уровень осадков в Москве понизится на 1 единицу за 6 дней\n",
      "Уровень осадков в Москве понизится на 1 единицу за 2 дня\n",
      "Уровень осадков в Москве понизится на 1 единицу за 3 дня\n",
      "Уровень осадков в Москве понизится на 1 единицу за 4 дня\n",
      "Уровень осадков в Москве понизится на 1 единицу за 5 дней\n",
      "Уровень осадков в Москве не изменится за 2 дня\n",
      "Уровень осадков в Москве не изменится за 3 дня\n",
      "Уровень осадков в Москве не изменится за 4 дня\n",
      "Уровень осадков в Москве не изменится за 2 дня\n",
      "Уровень осадков в Москве не изменится за 3 дня\n",
      "Уровень осадков в Москве не изменится за 2 дня\n"
     ]
    }
   ],
   "source": [
    "# код нужно тестировать\n",
    "for i in range(0, 7):\n",
    "    for j in range(i+1,7):\n",
    "        print(get_forecast_type_3(i, j))"
   ]
  },
  {
   "cell_type": "markdown",
   "metadata": {},
   "source": [
    "Некоторые вспомогательные функции, которые вам понадобятся: согласование существительного с числительным и приведение существительного к нужному падежу: "
   ]
  },
  {
   "cell_type": "code",
   "execution_count": 3,
   "metadata": {},
   "outputs": [
    {
     "name": "stdout",
     "output_type": "stream",
     "text": [
      "1 яблоко\n",
      "2 яблока\n",
      "5 яблок\n"
     ]
    }
   ],
   "source": [
    "import pymorphy2\n",
    "morph = pymorphy2.MorphAnalyzer()\n",
    "word = 'яблоко'\n",
    "parsed_word = morph.parse(word)[0]\n",
    "print(1, parsed_word.make_agree_with_number(1).word) # согласование слова с числительным 1\n",
    "print(2, parsed_word.make_agree_with_number(2).word) # согласование слова с числительным 2\n",
    "print(5, parsed_word.make_agree_with_number(5).word) # согласование слова с числительным 5"
   ]
  },
  {
   "cell_type": "code",
   "execution_count": 4,
   "metadata": {},
   "outputs": [
    {
     "name": "stdout",
     "output_type": "stream",
     "text": [
      "яблока\n"
     ]
    }
   ],
   "source": [
    "print(parsed_word.inflect({'gent'}).word) # слово в родительном падеже"
   ]
  },
  {
   "cell_type": "markdown",
   "metadata": {},
   "source": [
    "Ниже приведен пример решения аналогичной задачи генерации текстов: генератор отчета о том, сколько и каких фруктов съел Вася."
   ]
  },
  {
   "cell_type": "code",
   "execution_count": 5,
   "metadata": {
    "collapsed": true
   },
   "outputs": [],
   "source": [
    "def eating(n, fruit):\n",
    "    parsed_word = morph.parse(fruit)[0]\n",
    "    s = ' '.join(['Вася съел', str(n) ,parsed_word.make_agree_with_number(n).word, '.'])\n",
    "    return s"
   ]
  },
  {
   "cell_type": "code",
   "execution_count": 6,
   "metadata": {},
   "outputs": [
    {
     "data": {
      "text/plain": [
       "'Вася съел 5 яблок .'"
      ]
     },
     "execution_count": 6,
     "metadata": {},
     "output_type": "execute_result"
    }
   ],
   "source": [
    "eating(5, 'яблоко')"
   ]
  },
  {
   "cell_type": "code",
   "execution_count": 7,
   "metadata": {},
   "outputs": [
    {
     "data": {
      "text/plain": [
       "'Вася съел 4 груши .'"
      ]
     },
     "execution_count": 7,
     "metadata": {},
     "output_type": "execute_result"
    }
   ],
   "source": [
    "eating(4, 'груша')"
   ]
  },
  {
   "cell_type": "markdown",
   "metadata": {},
   "source": [
    "Пример более сложного генератора: фрукты могут есть не только мальчики, но и девочки, то есть, нужно не только согласовать числительное с существительным, но и поставить глагол в нужную форму."
   ]
  },
  {
   "cell_type": "code",
   "execution_count": 8,
   "metadata": {
    "collapsed": true
   },
   "outputs": [],
   "source": [
    "def eating(name, n, fruit):\n",
    "    name_tag = morph.parse(name)[0].tag\n",
    "    if 'masc' in name_tag:\n",
    "        gender = 'masc'\n",
    "    if 'femn' in name_tag:\n",
    "        gender = 'femn'\n",
    "    verb = morph.parse(\"съесть\")[0].inflect({'perf', gender,'sing','past','indc'}).word\n",
    "    parsed_word = morph.parse(fruit)[0]\n",
    "    s = ' '.join([name, verb, str(n) ,parsed_word.make_agree_with_number(n).word, '.'])\n",
    "    return s"
   ]
  },
  {
   "cell_type": "code",
   "execution_count": 9,
   "metadata": {},
   "outputs": [
    {
     "data": {
      "text/plain": [
       "'Маша съела 3 вишни .'"
      ]
     },
     "execution_count": 9,
     "metadata": {},
     "output_type": "execute_result"
    }
   ],
   "source": [
    "eating('Маша', 3, 'вишня')"
   ]
  },
  {
   "cell_type": "markdown",
   "metadata": {},
   "source": [
    "### 3. Ответьте на вопросы [3 балла]\n",
    "* В каких других задачах (помимо описания прогноза погоды) может понадобиться генерировать текст по шаблонам? В каких задачах может понадобиться генерировать текст об изменении числовых показателей по шаблонам?\n",
    "* Шаблоны, которые вы использовали в этом задании, имеют фиксированную структуру. Фактически, ваша задача заключалась в том, чтобы подставить в шаблон число и согласовать единицы измерения с этим числом или подставить в шаблон название города и согласовать его с предлогом. Как можно разнообразить эти шаблоны? Как знание синтаксической структуры предложения может помочь в этой задаче? "
   ]
  },
  {
   "cell_type": "markdown",
   "metadata": {},
   "source": [
    "## Сдача домашнего задания\n",
    "\n",
    "Дедлайн сдачи домашнего задания:  23:59 15.03.2018. Каждый день просрочки дедлайна штрафуется -1 баллом.\n",
    "\n",
    "Результаты домашнего задания должны быть оформлены в виде отчета в jupyter notebook.\n",
    "Нормальный отчёт должен включать в себя:\n",
    "* Краткую постановку задачи и формулировку задания\n",
    "* Описание минимума необходимой теории и/или описание используемых инструментов \n",
    "* Подробный пошаговый рассказ о проделанной работе\n",
    "* **Аккуратно** оформленные результаты\n",
    "* Подробные и внятные ответы на все заданные вопросы \n",
    "* Внятные выводы – не стоит относится к домашнему заданию как к последовательности сугубо технических шагов, а стоит относится скорее как к небольшому практическому исследованию, у которого есть своя цель и свое назначение.\n",
    "\n",
    "Задание выполняется в группе до трех человек. Не забудьте перечислить фамилии всех, кто работал над домашнем задании, в jupyter notebook.  \n",
    "\n",
    "В случае использования какого-либо строннего источника информации обязательно дайте на него ссылку. Плагиат наказывается нулём баллов за задание.\n",
    "\n",
    "При возникновении проблем с выполнением задания обращайтесь с вопросами к преподавателю по семинарским занятиям – Антону Емельянову. \n",
    "\n",
    "Небрежное оформление отчета существенно отразится на итоговой оценке. Весь код из отчёта должен быть воспроизводимым, если для этого нужны какие-то дополнительные действия, установленные модули и т.п. — всё это должно быть прописано в отчете в явном виде.\n",
    "\n",
    "Сдача отчетов осуществляется через систему AnyTask.\n"
   ]
  },
  {
   "cell_type": "markdown",
   "metadata": {},
   "source": [
    "### Как сдать домашнее задание в AnyTask\n",
    "* Зарегистрируйтесь в системе AnyTask по ссылке http://anytask.org/accounts/register . Регистрация обязательна для всех!\n",
    "* Подтвердите регистрацию по e-mail.\n",
    "* Зайдите в свой профиль, нажмите “Активация инвайтов на курсы” и введите инвайт 0pobDsj (для всех групп). \n",
    "\n",
    "\n",
    " У вас появится курс “МФТИ > Автоматическая обработка текстов (2018)” в разделе “Посещает курсы”.\n",
    "* Перейдите по ссылке “МФТИ > Автоматическая обработка текстов (2018)” и нажмите кнопку “Сдать”. \n",
    "* У вас откроется условие задачи и будут доступны различные поля, в частности, НИЖЕ условия задачи будет поле ввода, в которое вы сможете вписать какой-то комментарий, и сможете прикрепить файл. Сделайте это.\n",
    "* Домашнее задание лучше всего сдавать в форматах IPYNB.\n",
    "* Оценку вы получите также в системе AnyTask. За своей успеваемостью можете следить в разделе “Ведомость”, а также можете прокомментировать что-то в каждом вашем домашнем задании, зайдя на ее страничку (ячейки в табличке на страничке “Ведомость” кликабельны и ведут на ваш submission домашки).\n",
    "\n",
    "(**ВАЖНО**) Если домашнее задание вы делали в группе, то в AnyTask домашнее сдает *один* участник группы, но заргестрироваться в AnyTask обязательно всем – так мы сможем проставить вам оценки в ведомость в AnyTask.\n",
    "\n",
    "Ссылка на курс в AnyTask: http://anytask.org/course/325"
   ]
  }
 ],
 "metadata": {
  "kernelspec": {
   "display_name": "Python 3",
   "language": "python",
   "name": "python3"
  },
  "language_info": {
   "codemirror_mode": {
    "name": "ipython",
    "version": 3
   },
   "file_extension": ".py",
   "mimetype": "text/x-python",
   "name": "python",
   "nbconvert_exporter": "python",
   "pygments_lexer": "ipython3",
   "version": "3.6.3"
  }
 },
 "nbformat": 4,
 "nbformat_minor": 2
}
