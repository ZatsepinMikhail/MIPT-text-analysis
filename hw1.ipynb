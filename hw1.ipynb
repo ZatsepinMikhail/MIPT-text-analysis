{
 "cells": [
  {
   "cell_type": "markdown",
   "metadata": {},
   "source": [
    "# Автоматическая обработка текстов \n",
    "## Домашнее задание 1 (Зятчин 396 и Зацепин 396)\n",
    "\n",
    "В этом домашнем задании вам потребуется написать генератор описания прогноза погоды на следующую неделю в каком-нибудь городе. Домашнее задание состоит из трех частей:\n",
    "1. Скачивание данных о состоянии погоды в городе \n",
    "2. Генерация описания прогноза\n",
    "3. Творческая часть\n",
    "\n",
    "Все три части можно считать независимыми – вы можете сделать одну или две из них, однако мы настоятельно советуем выполнить все три. Все инструкции по выполнению домашнего задания – ниже. \n",
    "\n"
   ]
  },
  {
   "cell_type": "markdown",
   "metadata": {},
   "source": [
    "### 1. Сбор данных\n",
    "\n",
    "Для сбора информации о прогнозах погоды на 10 дней использовалось API сайта wunderground.com.\n",
    "\n",
    "Были извлечены следующие данные:\n",
    "\n",
    "* минимальная температура (в °C)\n",
    "* максимальная температура (в °C)\n",
    "* скорость ветра (в м/с)\n",
    "* уровень осадков (в мм)\n",
    "\n",
    "Собственно ниже представлен код отправки запроса и извлечения данных из формата json.\n",
    "\n",
    "P.S. Многие известные сервисы дают бесплатные прогнозы только на 5-7 дней, поэтому для нашего задания пришлось поискать noname-сервис :)"
   ]
  },
  {
   "cell_type": "code",
   "execution_count": 2,
   "metadata": {
    "collapsed": true
   },
   "outputs": [],
   "source": [
    "import json\n",
    "import numpy as np\n",
    "import pandas as pd\n",
    "import requests\n",
    "import datetime\n",
    "import pymorphy2\n",
    "import calendar"
   ]
  },
  {
   "cell_type": "code",
   "execution_count": 3,
   "metadata": {
    "collapsed": true
   },
   "outputs": [],
   "source": [
    "CITY, CITY_ENG = 'Москва', 'Moscow'\n",
    "\n",
    "def get_city():\n",
    "    return CITY\n",
    "\n",
    "\n",
    "MIN_TEMPERATURE = 'минимальная температура'\n",
    "MAX_TEMPERATURE = 'максимальная температура'\n",
    "WIND_SPEED = 'скорость ветра'\n",
    "PRECIPITATION_LEVEL = 'уровень осадков'"
   ]
  },
  {
   "cell_type": "code",
   "execution_count": 4,
   "metadata": {
    "collapsed": true
   },
   "outputs": [],
   "source": [
    "forecast_url = 'http://api.wunderground.com/api/f80f6ff287475a26/forecast10day/q/RU/' + CITY_ENG + '.json'"
   ]
  },
  {
   "cell_type": "code",
   "execution_count": 5,
   "metadata": {
    "collapsed": true
   },
   "outputs": [],
   "source": [
    "forecast_data = requests.get(forecast_url).json()\n",
    "daily10_forecast_data = forecast_data['forecast']['simpleforecast']['forecastday']"
   ]
  },
  {
   "cell_type": "code",
   "execution_count": 6,
   "metadata": {
    "collapsed": true
   },
   "outputs": [],
   "source": [
    "forecast_row_index = [MIN_TEMPERATURE, MAX_TEMPERATURE, WIND_SPEED, PRECIPITATION_LEVEL]\n",
    "forecast_table = pd.DataFrame(np.zeros(shape=(4, 10), dtype=np.int32), index=forecast_row_index)\n",
    "\n",
    "dates = []\n",
    "\n",
    "for i in range(10):\n",
    "    daily_forecast = daily10_forecast_data[i]\n",
    "\n",
    "    forecast_table.set_value(forecast_row_index[0], i, daily_forecast['low']['celsius'])\n",
    "    forecast_table.set_value(forecast_row_index[1], i, daily_forecast['high']['celsius'])\n",
    "    forecast_table.set_value(forecast_row_index[2], i, daily_forecast['avewind']['kph'])\n",
    "    \n",
    "    qpf_daily = daily_forecast['qpf_day']['mm']\n",
    "    if qpf_daily == None:\n",
    "        qpf_daily = 0\n",
    "    forecast_table.set_value(forecast_row_index[3], i, qpf_daily )\n",
    "    \n",
    "    day = datetime.date(daily_forecast['date']['year'], daily_forecast['date']['month'], daily_forecast['date']['day'])\n",
    "    dates.append(day)\n",
    "    \n",
    "forecast_table.rename(columns=lambda x: dates[x], inplace=True)"
   ]
  },
  {
   "cell_type": "code",
   "execution_count": 7,
   "metadata": {},
   "outputs": [
    {
     "data": {
      "text/html": [
       "<div>\n",
       "<style>\n",
       "    .dataframe thead tr:only-child th {\n",
       "        text-align: right;\n",
       "    }\n",
       "\n",
       "    .dataframe thead th {\n",
       "        text-align: left;\n",
       "    }\n",
       "\n",
       "    .dataframe tbody tr th {\n",
       "        vertical-align: top;\n",
       "    }\n",
       "</style>\n",
       "<table border=\"1\" class=\"dataframe\">\n",
       "  <thead>\n",
       "    <tr style=\"text-align: right;\">\n",
       "      <th></th>\n",
       "      <th>2018-03-15</th>\n",
       "      <th>2018-03-16</th>\n",
       "      <th>2018-03-17</th>\n",
       "      <th>2018-03-18</th>\n",
       "      <th>2018-03-19</th>\n",
       "      <th>2018-03-20</th>\n",
       "      <th>2018-03-21</th>\n",
       "      <th>2018-03-22</th>\n",
       "      <th>2018-03-23</th>\n",
       "      <th>2018-03-24</th>\n",
       "    </tr>\n",
       "  </thead>\n",
       "  <tbody>\n",
       "    <tr>\n",
       "      <th>минимальная температура</th>\n",
       "      <td>-12</td>\n",
       "      <td>-19</td>\n",
       "      <td>-18</td>\n",
       "      <td>-13</td>\n",
       "      <td>-9</td>\n",
       "      <td>-11</td>\n",
       "      <td>-13</td>\n",
       "      <td>-13</td>\n",
       "      <td>-10</td>\n",
       "      <td>-9</td>\n",
       "    </tr>\n",
       "    <tr>\n",
       "      <th>максимальная температура</th>\n",
       "      <td>-2</td>\n",
       "      <td>-8</td>\n",
       "      <td>-9</td>\n",
       "      <td>-6</td>\n",
       "      <td>-2</td>\n",
       "      <td>-1</td>\n",
       "      <td>-5</td>\n",
       "      <td>-6</td>\n",
       "      <td>-4</td>\n",
       "      <td>-2</td>\n",
       "    </tr>\n",
       "    <tr>\n",
       "      <th>скорость ветра</th>\n",
       "      <td>21</td>\n",
       "      <td>18</td>\n",
       "      <td>14</td>\n",
       "      <td>13</td>\n",
       "      <td>14</td>\n",
       "      <td>13</td>\n",
       "      <td>21</td>\n",
       "      <td>21</td>\n",
       "      <td>18</td>\n",
       "      <td>14</td>\n",
       "    </tr>\n",
       "    <tr>\n",
       "      <th>уровень осадков</th>\n",
       "      <td>4</td>\n",
       "      <td>0</td>\n",
       "      <td>0</td>\n",
       "      <td>0</td>\n",
       "      <td>0</td>\n",
       "      <td>1</td>\n",
       "      <td>1</td>\n",
       "      <td>1</td>\n",
       "      <td>0</td>\n",
       "      <td>1</td>\n",
       "    </tr>\n",
       "  </tbody>\n",
       "</table>\n",
       "</div>"
      ],
      "text/plain": [
       "                          2018-03-15  2018-03-16  2018-03-17  2018-03-18  \\\n",
       "минимальная температура          -12         -19         -18         -13   \n",
       "максимальная температура          -2          -8          -9          -6   \n",
       "скорость ветра                    21          18          14          13   \n",
       "уровень осадков                    4           0           0           0   \n",
       "\n",
       "                          2018-03-19  2018-03-20  2018-03-21  2018-03-22  \\\n",
       "минимальная температура           -9         -11         -13         -13   \n",
       "максимальная температура          -2          -1          -5          -6   \n",
       "скорость ветра                    14          13          21          21   \n",
       "уровень осадков                    0           1           1           1   \n",
       "\n",
       "                          2018-03-23  2018-03-24  \n",
       "минимальная температура          -10          -9  \n",
       "максимальная температура          -4          -2  \n",
       "скорость ветра                    18          14  \n",
       "уровень осадков                    0           1  "
      ]
     },
     "execution_count": 7,
     "metadata": {},
     "output_type": "execute_result"
    }
   ],
   "source": [
    "forecast_table"
   ]
  },
  {
   "cell_type": "markdown",
   "metadata": {},
   "source": [
    "### 2. Генератор описания прогноза погоды\n"
   ]
  },
  {
   "cell_type": "markdown",
   "metadata": {},
   "source": [
    "В следующих ячейках генерируются прогнозы по следующим компонентам:\n",
    "\n",
    "* Похолодание / потепление\n",
    "* Изменение скорости ветра\n",
    "* Повышение / понижение уровня осадков"
   ]
  },
  {
   "cell_type": "code",
   "execution_count": 9,
   "metadata": {},
   "outputs": [],
   "source": [
    "DAYS = forecast_table.columns"
   ]
  },
  {
   "cell_type": "code",
   "execution_count": 11,
   "metadata": {},
   "outputs": [],
   "source": [
    "# index - одно из четырех значений, например MIN_TEMPERATURE\n",
    "# day - число от 0 до 9\n",
    "def get_value_for_day(index, day):\n",
    "    return forecast_table.get_value(index, DAYS[day])"
   ]
  },
  {
   "cell_type": "code",
   "execution_count": 12,
   "metadata": {},
   "outputs": [],
   "source": [
    "def get_weekday_in_russian(day):\n",
    "    if day == 0:\n",
    "        return 'понедельник'\n",
    "    elif day == 1:\n",
    "        return 'вторник'\n",
    "    elif day == 2:\n",
    "        return 'среда'\n",
    "    elif day == 3:\n",
    "        return 'четверг'\n",
    "    elif day == 4:\n",
    "        return 'пятница'\n",
    "    elif day == 5:\n",
    "        return 'суббота'\n",
    "    elif day == 6:\n",
    "        return 'воскресенье'\n",
    "    assert(false)"
   ]
  },
  {
   "cell_type": "code",
   "execution_count": 13,
   "metadata": {},
   "outputs": [],
   "source": [
    "def make_first_letter_uppercase(word):\n",
    "    return word[0].upper() + word[1:]"
   ]
  },
  {
   "cell_type": "code",
   "execution_count": 14,
   "metadata": {
    "collapsed": true
   },
   "outputs": [],
   "source": [
    "morph = pymorphy2.MorphAnalyzer()"
   ]
  },
  {
   "cell_type": "markdown",
   "metadata": {},
   "source": [
    "### Температурный прогноз:"
   ]
  },
  {
   "cell_type": "code",
   "execution_count": 16,
   "metadata": {},
   "outputs": [
    {
     "name": "stdout",
     "output_type": "stream",
     "text": [
      "В воскресенье в Москве похолодает на 3 градуса по сравнению c четвергом\n"
     ]
    }
   ],
   "source": [
    "def get_forecast_type_1(day1, day2):\n",
    "    day1_word = morph.parse(get_weekday_in_russian(DAYS[day1].weekday()))[0].inflect({'ablt'}).word\n",
    "    day2_word = morph.parse(get_weekday_in_russian(DAYS[day2].weekday()))[0].inflect({'accs'}).word\n",
    "\n",
    "    city_word = make_first_letter_uppercase(morph.parse(get_city())[0].inflect({'datv'}).word)\n",
    "    \n",
    "    min_temp1 = get_value_for_day(MIN_TEMPERATURE, day1)\n",
    "    max_temp1 = get_value_for_day(MAX_TEMPERATURE, day1)\n",
    "    avg_temp1 = (max_temp1 + min_temp1) // 2.\n",
    "    \n",
    "    min_temp2 = get_value_for_day(MIN_TEMPERATURE, day2)\n",
    "    max_temp2 = get_value_for_day(MAX_TEMPERATURE, day2)\n",
    "    avg_temp2 = (max_temp2 + min_temp2) // 2.\n",
    "    \n",
    "    delta_temp = avg_temp2 - avg_temp1\n",
    "        \n",
    "    action = 'потеплеет'\n",
    "    if delta_temp < 0:\n",
    "        action = 'похолодает'\n",
    "        delta_temp *= -1\n",
    "        \n",
    "    if delta_temp == 0:\n",
    "        action = 'температура не изменится'\n",
    "        TEMPLATE = \"В {} в {} {} по сравнению c {}\"\n",
    "        return TEMPLATE.format(day2_word, city_word, action, day1_word)\n",
    "    \n",
    "    units = 'градус'\n",
    "    correct_units = morph.parse(units)[0].make_agree_with_number(delta_temp).word\n",
    "        \n",
    "    TEMPLATE = \"В {} в {} {} на {} {} по сравнению c {}\"\n",
    "    return TEMPLATE.format(day2_word,\n",
    "                           city_word,\n",
    "                           action,\n",
    "                           int(delta_temp),\n",
    "                           correct_units,\n",
    "                           day1_word)"
   ]
  },
  {
   "cell_type": "code",
   "execution_count": 17,
   "metadata": {},
   "outputs": [
    {
     "name": "stdout",
     "output_type": "stream",
     "text": [
      "В пятницу в Москве похолодает на 7 градусов по сравнению c четвергом\n",
      "В субботу в Москве похолодает на 7 градусов по сравнению c четвергом\n",
      "В воскресенье в Москве похолодает на 3 градуса по сравнению c четвергом\n",
      "В понедельник в Москве потеплеет на 1 градус по сравнению c четвергом\n",
      "В вторник в Москве потеплеет на 1 градус по сравнению c четвергом\n",
      "В среду в Москве похолодает на 2 градуса по сравнению c четвергом\n",
      "В субботу в Москве температура не изменится по сравнению c пятницей\n",
      "В воскресенье в Москве потеплеет на 4 градуса по сравнению c пятницей\n",
      "В понедельник в Москве потеплеет на 8 градусов по сравнению c пятницей\n",
      "В вторник в Москве потеплеет на 8 градусов по сравнению c пятницей\n",
      "В среду в Москве потеплеет на 5 градусов по сравнению c пятницей\n",
      "В воскресенье в Москве потеплеет на 4 градуса по сравнению c субботой\n",
      "В понедельник в Москве потеплеет на 8 градусов по сравнению c субботой\n",
      "В вторник в Москве потеплеет на 8 градусов по сравнению c субботой\n",
      "В среду в Москве потеплеет на 5 градусов по сравнению c субботой\n",
      "В понедельник в Москве потеплеет на 4 градуса по сравнению c воскресеньем\n",
      "В вторник в Москве потеплеет на 4 градуса по сравнению c воскресеньем\n",
      "В среду в Москве потеплеет на 1 градус по сравнению c воскресеньем\n",
      "В вторник в Москве температура не изменится по сравнению c понедельником\n",
      "В среду в Москве похолодает на 3 градуса по сравнению c понедельником\n",
      "В среду в Москве похолодает на 3 градуса по сравнению c вторником\n"
     ]
    }
   ],
   "source": [
    "for i in range(0, 7):\n",
    "    for j in range(i+1,7):\n",
    "        print(get_forecast_type_1(i, j))"
   ]
  },
  {
   "cell_type": "markdown",
   "metadata": {},
   "source": [
    "### Прогнозирование скорости ветра:"
   ]
  },
  {
   "cell_type": "code",
   "execution_count": 25,
   "metadata": {},
   "outputs": [],
   "source": [
    "def get_forecast_type_2(day1, day2):\n",
    "    wind_speed_word = make_first_letter_uppercase(WIND_SPEED)\n",
    "    \n",
    "    day1_word = morph.parse(get_weekday_in_russian(DAYS[day1].weekday()))[0].inflect({'ablt'}).word\n",
    "    day2_word = morph.parse(get_weekday_in_russian(DAYS[day2].weekday()))[0].inflect({'accs'}).word\n",
    "\n",
    "    city_word = make_first_letter_uppercase(morph.parse(get_city())[0].inflect({'datv'}).word)\n",
    "    \n",
    "    wind_speed1 = get_value_for_day(WIND_SPEED, day1)\n",
    "    wind_speed2 = get_value_for_day(WIND_SPEED, day2)\n",
    "    \n",
    "    delta_wind_speed = wind_speed2 - wind_speed1\n",
    "    \n",
    "    action = 'увеличится'\n",
    "    if delta_wind_speed < 0.:\n",
    "        delta_wind_speed *= -1.\n",
    "        action = 'уменьшится'\n",
    "        \n",
    "    if delta_wind_speed == 0.:\n",
    "        action = 'не изменится'\n",
    "        TEMPLATE = \"{} в {} в {} {} по сравнению c {}\"\n",
    "        return TEMPLATE.format(wind_speed_word, day2_word, city_word, action, day1_word)\n",
    "    \n",
    "    units = 'единица'\n",
    "    correct_units = morph.parse(units)[0].make_agree_with_number(delta_wind_speed)\n",
    "    \n",
    "    # обработка единственного числа (delta_wind_speed = 1)\n",
    "    if delta_wind_speed == 1.:\n",
    "        correct_units = correct_units.inflect({'sing', 'accs'})\n",
    "    \n",
    "    correct_units_word = correct_units.word\n",
    "    \n",
    "    TEMPLATE = \"{} в {} в {} {} на {} {} по сравнению c {}\"\n",
    "    return TEMPLATE.format(wind_speed_word, \n",
    "                           day2_word, \n",
    "                           city_word,\n",
    "                           action,\n",
    "                           int(delta_wind_speed),\n",
    "                           correct_units_word,\n",
    "                           day1_word)"
   ]
  },
  {
   "cell_type": "code",
   "execution_count": 19,
   "metadata": {},
   "outputs": [
    {
     "name": "stdout",
     "output_type": "stream",
     "text": [
      "Скорость ветра в пятницу в Москве уменьшится на 3 единицы по сравнению c четвергом\n",
      "Скорость ветра в субботу в Москве уменьшится на 7 единиц по сравнению c четвергом\n",
      "Скорость ветра в воскресенье в Москве уменьшится на 8 единиц по сравнению c четвергом\n",
      "Скорость ветра в понедельник в Москве уменьшится на 7 единиц по сравнению c четвергом\n",
      "Скорость ветра в вторник в Москве уменьшится на 8 единиц по сравнению c четвергом\n",
      "Скорость ветра в среду в Москве не изменится по сравнению c четвергом\n",
      "Скорость ветра в субботу в Москве уменьшится на 4 единицы по сравнению c пятницей\n",
      "Скорость ветра в воскресенье в Москве уменьшится на 5 единиц по сравнению c пятницей\n",
      "Скорость ветра в понедельник в Москве уменьшится на 4 единицы по сравнению c пятницей\n",
      "Скорость ветра в вторник в Москве уменьшится на 5 единиц по сравнению c пятницей\n",
      "Скорость ветра в среду в Москве увеличится на 3 единицы по сравнению c пятницей\n",
      "Скорость ветра в воскресенье в Москве уменьшится на 1 единицу по сравнению c субботой\n",
      "Скорость ветра в понедельник в Москве не изменится по сравнению c субботой\n",
      "Скорость ветра в вторник в Москве уменьшится на 1 единицу по сравнению c субботой\n",
      "Скорость ветра в среду в Москве увеличится на 7 единиц по сравнению c субботой\n",
      "Скорость ветра в понедельник в Москве увеличится на 1 единицу по сравнению c воскресеньем\n",
      "Скорость ветра в вторник в Москве не изменится по сравнению c воскресеньем\n",
      "Скорость ветра в среду в Москве увеличится на 8 единиц по сравнению c воскресеньем\n",
      "Скорость ветра в вторник в Москве уменьшится на 1 единицу по сравнению c понедельником\n",
      "Скорость ветра в среду в Москве увеличится на 7 единиц по сравнению c понедельником\n",
      "Скорость ветра в среду в Москве увеличится на 8 единиц по сравнению c вторником\n"
     ]
    }
   ],
   "source": [
    "for i in range(0, 7):\n",
    "    for j in range(i+1,7):\n",
    "        print(get_forecast_type_2(i, j))"
   ]
  },
  {
   "cell_type": "markdown",
   "metadata": {
    "collapsed": true
   },
   "source": [
    "### Прогнозирование уровня осадков"
   ]
  },
  {
   "cell_type": "code",
   "execution_count": 28,
   "metadata": {},
   "outputs": [],
   "source": [
    "def get_forecast_type_3(day1, day2):\n",
    "    precipitation_level_word = make_first_letter_uppercase(PRECIPITATION_LEVEL)\n",
    "    \n",
    "    day1_word = morph.parse(get_weekday_in_russian(DAYS[day1].weekday()))[0].inflect({'ablt'}).word\n",
    "    day2_word = morph.parse(get_weekday_in_russian(DAYS[day2].weekday()))[0].inflect({'accs'}).word\n",
    "    \n",
    "    delta_days = day2 - day1 + 1\n",
    "    time_unit = 'день'\n",
    "    time_unit_word = morph.parse(time_unit)[0].make_agree_with_number(delta_days).word\n",
    "    \n",
    "    city_word = make_first_letter_uppercase(morph.parse(get_city())[0].inflect({'datv'}).word)\n",
    "    \n",
    "    precipitation_level1 = get_value_for_day(PRECIPITATION_LEVEL, day1)\n",
    "    precipitation_level2 = get_value_for_day(PRECIPITATION_LEVEL, day2)\n",
    "    \n",
    "    delta_precipitation_level = precipitation_level2 - precipitation_level1\n",
    "    \n",
    "    action = 'повысится'\n",
    "    if delta_precipitation_level < 0.:\n",
    "        delta_precipitation_level *= -1.\n",
    "        action = 'понизится'\n",
    "        \n",
    "    if delta_precipitation_level == 0.:\n",
    "        action = 'не изменится'\n",
    "        TEMPLATE = \"{} в {} {} за {} {}\"\n",
    "        return TEMPLATE.format(precipitation_level_word, city_word, action, delta_days, time_unit_word )\n",
    "    \n",
    "    units = 'единица'\n",
    "    correct_units = morph.parse(units)[0].make_agree_with_number(delta_precipitation_level)\n",
    "    \n",
    "    # обработка единственного числа (delta_precipitation_level = 1)\n",
    "    if delta_precipitation_level == 1:\n",
    "        correct_units = correct_units.inflect({'sing', 'accs'})\n",
    "    \n",
    "    correct_units_word = correct_units.word\n",
    "    \n",
    "    TEMPLATE = \"{} в {} {} на {} {} за {} {}\"\n",
    "    return TEMPLATE.format(precipitation_level_word, \n",
    "                           city_word, \n",
    "                           action,\n",
    "                           int(delta_precipitation_level),\n",
    "                           correct_units_word,\n",
    "                           delta_days,\n",
    "                           time_unit_word)"
   ]
  },
  {
   "cell_type": "code",
   "execution_count": 23,
   "metadata": {},
   "outputs": [
    {
     "name": "stdout",
     "output_type": "stream",
     "text": [
      "Уровень осадков в Москве понизится на 4 единицы за 2 дня\n",
      "Уровень осадков в Москве понизится на 4 единицы за 3 дня\n",
      "Уровень осадков в Москве понизится на 4 единицы за 4 дня\n",
      "Уровень осадков в Москве понизится на 4 единицы за 5 дней\n",
      "Уровень осадков в Москве понизится на 3 единицы за 6 дней\n",
      "Уровень осадков в Москве понизится на 3 единицы за 7 дней\n",
      "Уровень осадков в Москве не изменится за 2 дня\n",
      "Уровень осадков в Москве не изменится за 3 дня\n",
      "Уровень осадков в Москве не изменится за 4 дня\n",
      "Уровень осадков в Москве повысится на 1 единицу за 5 дней\n",
      "Уровень осадков в Москве повысится на 1 единицу за 6 дней\n",
      "Уровень осадков в Москве не изменится за 2 дня\n",
      "Уровень осадков в Москве не изменится за 3 дня\n",
      "Уровень осадков в Москве повысится на 1 единицу за 4 дня\n",
      "Уровень осадков в Москве повысится на 1 единицу за 5 дней\n",
      "Уровень осадков в Москве не изменится за 2 дня\n",
      "Уровень осадков в Москве повысится на 1 единицу за 3 дня\n",
      "Уровень осадков в Москве повысится на 1 единицу за 4 дня\n",
      "Уровень осадков в Москве повысится на 1 единицу за 2 дня\n",
      "Уровень осадков в Москве повысится на 1 единицу за 3 дня\n",
      "Уровень осадков в Москве не изменится за 2 дня\n"
     ]
    }
   ],
   "source": [
    "for i in range(0, 7):\n",
    "    for j in range(i+1,7):\n",
    "        print(get_forecast_type_3(i, j))"
   ]
  },
  {
   "cell_type": "markdown",
   "metadata": {},
   "source": [
    "### 3. Ответьте на вопросы"
   ]
  },
  {
   "cell_type": "markdown",
   "metadata": {},
   "source": [
    "Вопрос 1. \n",
    "\n",
    "В каких других задачах (помимо описания прогноза погоды) может понадобиться генерировать текст по шаблонам? В каких задачах может понадобиться генерировать текст об изменении числовых показателей по шаблонам?"
   ]
  },
  {
   "cell_type": "markdown",
   "metadata": {},
   "source": [
    "*  Достаточно распространенным примером является задача составления отчетности, особенно для формальных целей, например для получения справки или оформления документов.\n",
    "*  В качестве дополнительных примеров конкретных областей применения, можно привести следующие области:\n",
    "     * Финансовые отчеты. Например составление налоговой отчетности или предоставление информации для биржи. Также Можно рассмотреть финансовый рынок, для которого огромное количество людей составляют разнородные отчеты о всевозможных финансовых инструментах. Довольно много информации, засоряющей новостной фон, а ведь в целом, можно абсолютно просто автоматизировать составлвение отчетности и предоставлению клиенту отчета по шаблону. Например: \"Рубль вырос по отношению к доллару и стоит 100500 долларов.\" Или \"Акции \"Газпрома\" выросли на 500% и Ваша прибыль за сегодня составляет 100500 рублей.\" \n",
    "     * Спортивные отчеты. Например: \"Спартак проиграл Ливерпулю 7 очков.\"\n"
   ]
  },
  {
   "cell_type": "markdown",
   "metadata": {},
   "source": [
    "Вопрос 2. \n",
    "\n",
    "Шаблоны, которые вы использовали в этом задании, имеют фиксированную структуру. Фактически, ваша задача заключалась в том, чтобы подставить в шаблон число и согласовать единицы измерения с этим числом или подставить в шаблон название города и согласовать его с предлогом. Как можно разнообразить эти шаблоны? Как знание синтаксической структуры предложения может помочь в этой задаче? "
   ]
  },
  {
   "cell_type": "markdown",
   "metadata": {},
   "source": [
    "- Больше всего хотелось разнообразить отчеты обилием глаголов, потому что описание меняющихся величин можно делать не только с помощью слова \"изменилось\". Можно генерировать в шаблонах с некоторой вероятностью различные глаголы, или даже генерировать их в зависимости от величины, также можно вставлять оценочные характеристики. \n",
    "\n",
    "- Например можно комбинировать \"незначительно\" и \"опустилось\" или \"невероятно\" и \"взлетело\" и т.п. Кроме того, гибкость русского языка позволяет менять местами некоторые слова, что дает возможность генерировать чуть более разнообразные сообщения. Например \"в Москве\" можно было поставить практически куда угодно в шаблон (даже не меняя шаблон в коде). \n",
    "\n",
    "- Собственно знание синтаксической структуры позволяет определить правила генерации рандомных подстановок и перестановок в шаблоне. Можно сделать отдельный генератор шаблонов, с описанием того, что нужно подставлять. Например \"Облигации _bond_name_ _adverb_option_ _action_name_ на _delta_price_ за _delta_time_\", генератор вернет строку-шаблон \"Облигации {} {} {} на {} за {}\" и дескриптор [_bond_name_, _adverb_option_, _action_name_, _delta_price_, _delta_time_] и в коде нужно будет сгенерировать только описанные в дескрипторе сущности уже соответствующим генератором сущностей. Также добавить в дескриптор параметры согласования. \n",
    "\n",
    "- В качестве альтернативного подхода, можно создать большую базу шаблонов с описанием и случайно выбирать шаблон."
   ]
  }
 ],
 "metadata": {
  "kernelspec": {
   "display_name": "Python 3",
   "language": "python",
   "name": "python3"
  },
  "language_info": {
   "codemirror_mode": {
    "name": "ipython",
    "version": 3
   },
   "file_extension": ".py",
   "mimetype": "text/x-python",
   "name": "python",
   "nbconvert_exporter": "python",
   "pygments_lexer": "ipython3",
   "version": "3.5.4"
  }
 },
 "nbformat": 4,
 "nbformat_minor": 2
}
