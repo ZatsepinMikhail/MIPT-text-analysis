{
 "cells": [
  {
   "cell_type": "markdown",
   "metadata": {},
   "source": [
    "# Автоматическая обработка текстов \n",
    "## Домашнее задание 1 [10 баллов] до 23:59 15.03.2018\n",
    "\n",
    "В этом домашнем задании вам потребуется написать генератор описания прогноза погоды на следующую неделю в каком-нибудь городе. Домашнее задание состоит из трех частей:\n",
    "1. Скачивание данных о состоянии погоды в городе \n",
    "2. Генерация описания прогноза\n",
    "3. Творческая часть\n",
    "\n",
    "Все три части можно считать независимыми – вы можете сделать одну или две из них, однако мы настоятельно советуем выполнить все три. Все инструкции по выполнению домашнего задания – ниже. \n",
    "\n"
   ]
  },
  {
   "cell_type": "markdown",
   "metadata": {},
   "source": [
    "### 1. Сбор данных [3 балла]\n",
    "\n",
    "\n",
    "Пример: прогноз на 10 ближайших дней в Москве – https://www.gismeteo.ru/weather-moscow-4368/10-days/\n",
    "\n",
    "Используя известные вам библиотеки для работы с протоколом http и html кодом, извлеките прогноз на ближайшие 10 дней, начиная со дня, когда вы начали делать домашнее задание, с любого сервиса с прогнозом погоды или используя его API.\n",
    "Примеры сервисов:\n",
    "* gismeteo.ru, https://www.gismeteo.ru/api/ – Gismeteo, API Gismeteo \n",
    "* https://tech.yandex.ru/weather/ – API Yandex.Погоды\n",
    "* https://sinoptik.com.ru – Sinoptik\n",
    "* любой другой \n",
    "\n",
    "Резльтатом сбора данных должна быть таблица со следующими строками:\n",
    "* минимальная температура\n",
    "* максимальная температура\n",
    "* скорость ветра\n",
    "* уровень осадков \n",
    "\n",
    "В столбцах таблицы должны быть даты и дни недели.  Пример итоговой таблицы вы найдете в следующей части задания. "
   ]
  },
  {
   "cell_type": "code",
   "execution_count": 1,
   "metadata": {
    "collapsed": true
   },
   "outputs": [],
   "source": [
    "import json\n",
    "import numpy as np\n",
    "import pandas as pd\n",
    "import requests"
   ]
  },
  {
   "cell_type": "code",
   "execution_count": 2,
   "metadata": {
    "collapsed": true
   },
   "outputs": [],
   "source": [
    "CITY, CITY_ENG = 'Москва', 'Moscow'\n",
    "def get_city():\n",
    "    return CITY\n",
    "\n",
    "\n",
    "MIN_TEMPERATURE = 'минимальная температура'\n",
    "MAX_TEMPERATURE = 'максимальная температура'\n",
    "WIND_SPEED = 'скорость ветра'\n",
    "PRECIPITATION_LEVEL = 'уровень осадков'\n"
   ]
  },
  {
   "cell_type": "code",
   "execution_count": 3,
   "metadata": {
    "collapsed": true
   },
   "outputs": [],
   "source": [
    "forecast_url = 'http://api.wunderground.com/api/f80f6ff287475a26/forecast10day/q/RU/' + CITY_ENG + '.json'"
   ]
  },
  {
   "cell_type": "code",
   "execution_count": 4,
   "metadata": {
    "collapsed": true
   },
   "outputs": [],
   "source": [
    "forecast_data = requests.get(forecast_url).json()\n",
    "daily10_forecast_data = forecast_data['forecast']['simpleforecast']['forecastday']"
   ]
  },
  {
   "cell_type": "code",
   "execution_count": 5,
   "metadata": {
    "collapsed": true
   },
   "outputs": [],
   "source": [
    "forecast_row_index = [MIN_TEMPERATURE, MAX_TEMPERATURE, WIND_SPEED, PRECIPITATION_LEVEL]\n",
    "forecast_table = pd.DataFrame(np.zeros(shape=(4, 10), dtype=np.int32), index=forecast_row_index)\n",
    "\n",
    "dates = []\n",
    "\n",
    "for i in range(10):\n",
    "    daily_forecast = daily10_forecast_data[i]\n",
    "\n",
    "    forecast_table.set_value(forecast_row_index[0], i, daily_forecast['low']['celsius'])\n",
    "    forecast_table.set_value(forecast_row_index[1], i, daily_forecast['high']['celsius'])\n",
    "    forecast_table.set_value(forecast_row_index[2], i, daily_forecast['avewind']['kph'])\n",
    "    \n",
    "    qpf_daily = daily_forecast['qpf_day']['mm']\n",
    "    if qpf_daily == None:\n",
    "        qpf_daily = 0\n",
    "    forecast_table.set_value(forecast_row_index[3], i, qpf_daily )\n",
    "\n",
    "    dates.append(str(daily_forecast['date']['day']) + '.' + \n",
    "                 str(daily_forecast['date']['month']) + '.' + \n",
    "                 str(daily_forecast['date']['year']))\n",
    "    \n",
    "forecast_table.rename(columns=lambda x: dates[x], inplace=True)"
   ]
  },
  {
   "cell_type": "code",
   "execution_count": 9,
   "metadata": {},
   "outputs": [
    {
     "data": {
      "text/html": [
       "<div>\n",
       "<style>\n",
       "    .dataframe thead tr:only-child th {\n",
       "        text-align: right;\n",
       "    }\n",
       "\n",
       "    .dataframe thead th {\n",
       "        text-align: left;\n",
       "    }\n",
       "\n",
       "    .dataframe tbody tr th {\n",
       "        vertical-align: top;\n",
       "    }\n",
       "</style>\n",
       "<table border=\"1\" class=\"dataframe\">\n",
       "  <thead>\n",
       "    <tr style=\"text-align: right;\">\n",
       "      <th></th>\n",
       "      <th>9.3.2018</th>\n",
       "      <th>10.3.2018</th>\n",
       "      <th>11.3.2018</th>\n",
       "      <th>12.3.2018</th>\n",
       "      <th>13.3.2018</th>\n",
       "      <th>14.3.2018</th>\n",
       "      <th>15.3.2018</th>\n",
       "      <th>16.3.2018</th>\n",
       "      <th>17.3.2018</th>\n",
       "      <th>18.3.2018</th>\n",
       "    </tr>\n",
       "  </thead>\n",
       "  <tbody>\n",
       "    <tr>\n",
       "      <th>минимальная температура</th>\n",
       "      <td>-12</td>\n",
       "      <td>-11</td>\n",
       "      <td>-11</td>\n",
       "      <td>-10</td>\n",
       "      <td>-11</td>\n",
       "      <td>-10</td>\n",
       "      <td>-8</td>\n",
       "      <td>-8</td>\n",
       "      <td>-9</td>\n",
       "      <td>-9</td>\n",
       "    </tr>\n",
       "    <tr>\n",
       "      <th>максимальная температура</th>\n",
       "      <td>-4</td>\n",
       "      <td>-5</td>\n",
       "      <td>-4</td>\n",
       "      <td>-3</td>\n",
       "      <td>-3</td>\n",
       "      <td>-3</td>\n",
       "      <td>-2</td>\n",
       "      <td>-1</td>\n",
       "      <td>-2</td>\n",
       "      <td>-2</td>\n",
       "    </tr>\n",
       "    <tr>\n",
       "      <th>скорость ветра</th>\n",
       "      <td>14</td>\n",
       "      <td>19</td>\n",
       "      <td>18</td>\n",
       "      <td>14</td>\n",
       "      <td>21</td>\n",
       "      <td>18</td>\n",
       "      <td>16</td>\n",
       "      <td>10</td>\n",
       "      <td>13</td>\n",
       "      <td>14</td>\n",
       "    </tr>\n",
       "    <tr>\n",
       "      <th>уровень осадков</th>\n",
       "      <td>0</td>\n",
       "      <td>1</td>\n",
       "      <td>1</td>\n",
       "      <td>0</td>\n",
       "      <td>0</td>\n",
       "      <td>0</td>\n",
       "      <td>0</td>\n",
       "      <td>0</td>\n",
       "      <td>0</td>\n",
       "      <td>0</td>\n",
       "    </tr>\n",
       "  </tbody>\n",
       "</table>\n",
       "</div>"
      ],
      "text/plain": [
       "                          9.3.2018  10.3.2018  11.3.2018  12.3.2018  \\\n",
       "минимальная температура        -12        -11        -11        -10   \n",
       "максимальная температура        -4         -5         -4         -3   \n",
       "скорость ветра                  14         19         18         14   \n",
       "уровень осадков                  0          1          1          0   \n",
       "\n",
       "                          13.3.2018  14.3.2018  15.3.2018  16.3.2018  \\\n",
       "минимальная температура         -11        -10         -8         -8   \n",
       "максимальная температура         -3         -3         -2         -1   \n",
       "скорость ветра                   21         18         16         10   \n",
       "уровень осадков                   0          0          0          0   \n",
       "\n",
       "                          17.3.2018  18.3.2018  \n",
       "минимальная температура          -9         -9  \n",
       "максимальная температура         -2         -2  \n",
       "скорость ветра                   13         14  \n",
       "уровень осадков                   0          0  "
      ]
     },
     "execution_count": 9,
     "metadata": {},
     "output_type": "execute_result"
    }
   ],
   "source": [
    "forecast_table"
   ]
  },
  {
   "cell_type": "markdown",
   "metadata": {},
   "source": [
    "### 2. Генератор описания прогноза погоды [4 балла]\n",
    "\n",
    "Если у вас не получилось извлечь прогноз погоды в предыдущей части задания, воспользуйтесь таблицей ниже.\n",
    "В ней приведен прогноз четырех показателей на первые 10 дней февраля в Москве – минимальная и максимальная температура, скорость ветра и уровень осадков. "
   ]
  },
  {
   "cell_type": "markdown",
   "metadata": {},
   "source": [
    "|                | 02.02 (пт) | 03.02 (сб) | 04.02 (вс)| 05.02 (пн) | 06.02 (вт) | 07.02 (пн) | 08.02 (ср) | 09.02 (ср) | 10.02 (сб) | 11.02 (вс)\n",
    "|----------------|-------|-------|-------|-------|-------|-------|-------|\n",
    "| минимальная температура    | -9    | -1    | -8    | -13    | -12    | -15    | -21    | -14 |-8 |-8\n",
    "| максимальная температура    | -1    | +1    | -2    | -9   | -11    | -12    | -16    |-5    |-6    |-5|\n",
    "| скорость ветра | 10    | 13    | 15    | 15   |11    | 6    | 7 | 9 | 8 |12\n",
    "| уровень осадков         | 1.35  | 8.6  | 15.5  | 6.6   | 2.7   | 2.1   | 0   | 3.2   |0.8  | 0.4"
   ]
  },
  {
   "cell_type": "markdown",
   "metadata": {},
   "source": [
    "Прогноз погоды должен состоять из следующих (или подобным им) предложений, генерируемых по шаблонам (ниже три шаблона):\n",
    "* В день1 похолодает / потеплеет на X градус (-а, -ов) по сравнению с день2\n",
    "    * *В четверг в НазваниеГорода потеплеет на 7 градусов по сравнению со средой*\n",
    "* Скорость ветра изменится на X единиц в день1 по сравнению с день2.\n",
    "    * *Скорость ветра изменится на 3 км/час в понедельник по сравнению с пятницей*\n",
    "* Уровень осадков повысится / понизится на X единиц за Y дней. \n",
    "    * *Уровень осадков понится на 3.85 мм за 7 дней*\n",
    "    * *Выпадет 10 см снега за ближайшие 7 дней * \n",
    "\n",
    "\n",
    "Вместо НазваниеГорода и дней недели подставьте название выбранного вами города и дни недели, используя фунцкии для согласования существительных с предлогами. Используйте функции для согласования числительного с существительным для согласования длительности промежутков времени и слова \"день\" и чисел  с последующими единицами измерения."
   ]
  },
  {
   "cell_type": "code",
   "execution_count": 8,
   "metadata": {},
   "outputs": [
    {
     "ename": "TypeError",
     "evalue": "'numpy.ndarray' object is not callable",
     "output_type": "error",
     "traceback": [
      "\u001b[1;31m---------------------------------------------------------------------------\u001b[0m",
      "\u001b[1;31mTypeError\u001b[0m                                 Traceback (most recent call last)",
      "\u001b[1;32m<ipython-input-8-7e6776a99329>\u001b[0m in \u001b[0;36m<module>\u001b[1;34m()\u001b[0m\n\u001b[1;32m----> 1\u001b[1;33m \u001b[0mforecast_table\u001b[0m\u001b[1;33m.\u001b[0m\u001b[0mvalues\u001b[0m\u001b[1;33m(\u001b[0m\u001b[1;33m)\u001b[0m\u001b[1;33m\u001b[0m\u001b[0m\n\u001b[0m",
      "\u001b[1;31mTypeError\u001b[0m: 'numpy.ndarray' object is not callable"
     ]
    }
   ],
   "source": []
  },
  {
   "cell_type": "code",
   "execution_count": null,
   "metadata": {
    "collapsed": true
   },
   "outputs": [],
   "source": []
  },
  {
   "cell_type": "code",
   "execution_count": null,
   "metadata": {
    "collapsed": true
   },
   "outputs": [],
   "source": []
  },
  {
   "cell_type": "markdown",
   "metadata": {},
   "source": [
    "Некоторые вспомогательные функции, которые вам понадобятся: согласование существительного с числительным и приведение существительного к нужному падежу: "
   ]
  },
  {
   "cell_type": "code",
   "execution_count": 3,
   "metadata": {},
   "outputs": [
    {
     "name": "stdout",
     "output_type": "stream",
     "text": [
      "1 яблоко\n",
      "2 яблока\n",
      "5 яблок\n"
     ]
    }
   ],
   "source": [
    "import pymorphy2\n",
    "morph = pymorphy2.MorphAnalyzer()\n",
    "word = 'яблоко'\n",
    "parsed_word = morph.parse(word)[0]\n",
    "print(1, parsed_word.make_agree_with_number(1).word) # согласование слова с числительным 1\n",
    "print(2, parsed_word.make_agree_with_number(2).word) # согласование слова с числительным 2\n",
    "print(5, parsed_word.make_agree_with_number(5).word) # согласование слова с числительным 5"
   ]
  },
  {
   "cell_type": "code",
   "execution_count": 4,
   "metadata": {},
   "outputs": [
    {
     "name": "stdout",
     "output_type": "stream",
     "text": [
      "яблока\n"
     ]
    }
   ],
   "source": [
    "print(parsed_word.inflect({'gent'}).word) # слово в родительном падеже"
   ]
  },
  {
   "cell_type": "markdown",
   "metadata": {},
   "source": [
    "Ниже приведен пример решения аналогичной задачи генерации текстов: генератор отчета о том, сколько и каких фруктов съел Вася."
   ]
  },
  {
   "cell_type": "code",
   "execution_count": 5,
   "metadata": {
    "collapsed": true
   },
   "outputs": [],
   "source": [
    "def eating(n, fruit):\n",
    "    parsed_word = morph.parse(fruit)[0]\n",
    "    s = ' '.join(['Вася съел', str(n) ,parsed_word.make_agree_with_number(n).word, '.'])\n",
    "    return s"
   ]
  },
  {
   "cell_type": "code",
   "execution_count": 6,
   "metadata": {},
   "outputs": [
    {
     "data": {
      "text/plain": [
       "'Вася съел 5 яблок .'"
      ]
     },
     "execution_count": 6,
     "metadata": {},
     "output_type": "execute_result"
    }
   ],
   "source": [
    "eating(5, 'яблоко')"
   ]
  },
  {
   "cell_type": "code",
   "execution_count": 7,
   "metadata": {},
   "outputs": [
    {
     "data": {
      "text/plain": [
       "'Вася съел 4 груши .'"
      ]
     },
     "execution_count": 7,
     "metadata": {},
     "output_type": "execute_result"
    }
   ],
   "source": [
    "eating(4, 'груша')"
   ]
  },
  {
   "cell_type": "markdown",
   "metadata": {},
   "source": [
    "Пример более сложного генератора: фрукты могут есть не только мальчики, но и девочки, то есть, нужно не только согласовать числительное с существительным, но и поставить глагол в нужную форму."
   ]
  },
  {
   "cell_type": "code",
   "execution_count": 8,
   "metadata": {
    "collapsed": true
   },
   "outputs": [],
   "source": [
    "def eating(name, n, fruit):\n",
    "    name_tag = morph.parse(name)[0].tag\n",
    "    if 'masc' in name_tag:\n",
    "        gender = 'masc'\n",
    "    if 'femn' in name_tag:\n",
    "        gender = 'femn'\n",
    "    verb = morph.parse(\"съесть\")[0].inflect({'perf', gender,'sing','past','indc'}).word\n",
    "    parsed_word = morph.parse(fruit)[0]\n",
    "    s = ' '.join([name, verb, str(n) ,parsed_word.make_agree_with_number(n).word, '.'])\n",
    "    return s"
   ]
  },
  {
   "cell_type": "code",
   "execution_count": 9,
   "metadata": {},
   "outputs": [
    {
     "data": {
      "text/plain": [
       "'Маша съела 3 вишни .'"
      ]
     },
     "execution_count": 9,
     "metadata": {},
     "output_type": "execute_result"
    }
   ],
   "source": [
    "eating('Маша', 3, 'вишня')"
   ]
  },
  {
   "cell_type": "markdown",
   "metadata": {},
   "source": [
    "### 3. Ответьте на вопросы [3 балла]\n",
    "* В каких других задачах (помимо описания прогноза погоды) может понадобиться генерировать текст по шаблонам? В каких задачах может понадобиться генерировать текст об изменении числовых показателей по шаблонам?\n",
    "* Шаблоны, которые вы использовали в этом задании, имеют фиксированную структуру. Фактически, ваша задача заключалась в том, чтобы подставить в шаблон число и согласовать единицы измерения с этим числом или подставить в шаблон название города и согласовать его с предлогом. Как можно разнообразить эти шаблоны? Как знание синтаксической структуры предложения может помочь в этой задаче? "
   ]
  },
  {
   "cell_type": "markdown",
   "metadata": {},
   "source": [
    "## Сдача домашнего задания\n",
    "\n",
    "Дедлайн сдачи домашнего задания:  23:59 15.03.2018. Каждый день просрочки дедлайна штрафуется -1 баллом.\n",
    "\n",
    "Результаты домашнего задания должны быть оформлены в виде отчета в jupyter notebook.\n",
    "Нормальный отчёт должен включать в себя:\n",
    "* Краткую постановку задачи и формулировку задания\n",
    "* Описание минимума необходимой теории и/или описание используемых инструментов \n",
    "* Подробный пошаговый рассказ о проделанной работе\n",
    "* **Аккуратно** оформленные результаты\n",
    "* Подробные и внятные ответы на все заданные вопросы \n",
    "* Внятные выводы – не стоит относится к домашнему заданию как к последовательности сугубо технических шагов, а стоит относится скорее как к небольшому практическому исследованию, у которого есть своя цель и свое назначение.\n",
    "\n",
    "Задание выполняется в группе до трех человек. Не забудьте перечислить фамилии всех, кто работал над домашнем задании, в jupyter notebook.  \n",
    "\n",
    "В случае использования какого-либо строннего источника информации обязательно дайте на него ссылку. Плагиат наказывается нулём баллов за задание.\n",
    "\n",
    "При возникновении проблем с выполнением задания обращайтесь с вопросами к преподавателю по семинарским занятиям – Антону Емельянову. \n",
    "\n",
    "Небрежное оформление отчета существенно отразится на итоговой оценке. Весь код из отчёта должен быть воспроизводимым, если для этого нужны какие-то дополнительные действия, установленные модули и т.п. — всё это должно быть прописано в отчете в явном виде.\n",
    "\n",
    "Сдача отчетов осуществляется через систему AnyTask.\n"
   ]
  },
  {
   "cell_type": "markdown",
   "metadata": {},
   "source": [
    "### Как сдать домашнее задание в AnyTask\n",
    "* Зарегистрируйтесь в системе AnyTask по ссылке http://anytask.org/accounts/register . Регистрация обязательна для всех!\n",
    "* Подтвердите регистрацию по e-mail.\n",
    "* Зайдите в свой профиль, нажмите “Активация инвайтов на курсы” и введите инвайт 0pobDsj (для всех групп). \n",
    "\n",
    "\n",
    " У вас появится курс “МФТИ > Автоматическая обработка текстов (2018)” в разделе “Посещает курсы”.\n",
    "* Перейдите по ссылке “МФТИ > Автоматическая обработка текстов (2018)” и нажмите кнопку “Сдать”. \n",
    "* У вас откроется условие задачи и будут доступны различные поля, в частности, НИЖЕ условия задачи будет поле ввода, в которое вы сможете вписать какой-то комментарий, и сможете прикрепить файл. Сделайте это.\n",
    "* Домашнее задание лучше всего сдавать в форматах IPYNB.\n",
    "* Оценку вы получите также в системе AnyTask. За своей успеваемостью можете следить в разделе “Ведомость”, а также можете прокомментировать что-то в каждом вашем домашнем задании, зайдя на ее страничку (ячейки в табличке на страничке “Ведомость” кликабельны и ведут на ваш submission домашки).\n",
    "\n",
    "(**ВАЖНО**) Если домашнее задание вы делали в группе, то в AnyTask домашнее сдает *один* участник группы, но заргестрироваться в AnyTask обязательно всем – так мы сможем проставить вам оценки в ведомость в AnyTask.\n",
    "\n",
    "Ссылка на курс в AnyTask: http://anytask.org/course/325"
   ]
  }
 ],
 "metadata": {
  "kernelspec": {
   "display_name": "Python 3",
   "language": "python",
   "name": "python3"
  },
  "language_info": {
   "codemirror_mode": {
    "name": "ipython",
    "version": 3
   },
   "file_extension": ".py",
   "mimetype": "text/x-python",
   "name": "python",
   "nbconvert_exporter": "python",
   "pygments_lexer": "ipython3",
   "version": "3.6.3"
  }
 },
 "nbformat": 4,
 "nbformat_minor": 2
}
